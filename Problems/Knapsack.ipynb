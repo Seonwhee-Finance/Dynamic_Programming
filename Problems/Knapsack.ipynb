{
 "cells": [
  {
   "cell_type": "markdown",
   "metadata": {},
   "source": [
    "In the supermarket there are N packages, the package i has weight w[i] and value v[i]. A thief breaks into the supermarket, the thief cannot carry weight exceeding K. The problem to be solved here is: which packages the thief will take away to get the highest value?  \n",
    "  \n",
    "Input :     \n",
    "- The number of packages N(1 ≤ N ≤ 100) and maximum weight K(1 ≤ K ≤ 100,000) at the first line.\n",
    "- The weight of a package w(1 ≤ w ≤ 100,000) and its corresponding value v(0 ≤ v ≤ 1,000).   \n",
    "   \n",
    "Output :   \n",
    "- Maximized value"
   ]
  },
  {
   "cell_type": "markdown",
   "metadata": {},
   "source": [
    "Kanpsack No Repeat($ w_1 $, ..., $v_1$, ...$v_n$, $B$):\n",
    "```\n",
    "    for b = 0 to B:\n",
    "        K[0,b] = 0\n",
    "    for i = 1 to n:\n",
    "        K[i,0] = 0\n",
    "    for i = 1 to n:\n",
    "        for b = 1 to B:\n",
    "            if w[i] <= b\n",
    "                then K[i,b] = max{v[i] + K[i-1, b-w[i]], K[i-1, b]}\n",
    "            else\n",
    "                K[i,b] = K[i-1, b]\n",
    "    return K[n,B]\n",
    "```\n"
   ]
  },
  {
   "cell_type": "code",
   "execution_count": 3,
   "metadata": {},
   "outputs": [
    {
     "name": "stdout",
     "output_type": "stream",
     "text": [
      "The number of packages as an Integer <space> The maximum weight being carried by the knapsack as an Integer\n",
      "4 7\n",
      "The weight of the package(Int) <space> The value of the package(Int)\n",
      "6 13\n",
      "1th row, weight 1 0\n",
      "1th row, weight 2 0\n",
      "1th row, weight 3 0\n",
      "1th row, weight 4 0\n",
      "1th row, weight 5 0\n",
      "1th row, weight 6 13\n",
      "1th row, weight 7 13\n",
      "The weight of the package(Int) <space> The value of the package(Int)\n",
      "4 8\n",
      "2th row, weight 1 0\n",
      "2th row, weight 2 0\n",
      "2th row, weight 3 0\n",
      "2th row, weight 4 8\n",
      "2th row, weight 5 8\n",
      "2th row, weight 6 13\n",
      "2th row, weight 7 13\n",
      "The weight of the package(Int) <space> The value of the package(Int)\n",
      "3 6\n",
      "3th row, weight 1 0\n",
      "3th row, weight 2 0\n",
      "3th row, weight 3 6\n",
      "3th row, weight 4 8\n",
      "3th row, weight 5 8\n",
      "3th row, weight 6 13\n",
      "3th row, weight 7 14\n",
      "The weight of the package(Int) <space> The value of the package(Int)\n",
      "5 12\n",
      "4th row, weight 1 0\n",
      "4th row, weight 2 0\n",
      "4th row, weight 3 6\n",
      "4th row, weight 4 8\n",
      "4th row, weight 5 12\n",
      "4th row, weight 6 13\n",
      "4th row, weight 7 14\n",
      "The highest value of the packages the thief will take away : 14\n"
     ]
    }
   ],
   "source": [
    "n, k = map(int, input(\"The number of packages as an Integer <space> The maximum weight being carried by the knapsack as an Integer\\n\").split())\n",
    "dp = [[0]*(k+1) for _ in range(n+1)] \n",
    "\n",
    "for i in range(1, n+1):\n",
    "    weight, value = map(int, input(\"The weight of the package(Int) <space> The value of the package(Int)\\n\").split())\n",
    "    for j in range(1, k+1):\n",
    "        if j < weight:\n",
    "            dp[i][j] = dp[i-1][j]\n",
    "        else:\n",
    "            dp[i][j] = max(dp[i-1][j], dp[i-1][j-weight] + value)\n",
    "        print(\"%dth row, weight %d\"%(i,j), dp[i][j])\n",
    "\n",
    "print(\"The highest value of the packages the thief will take away : %d\" %dp[n][k])"
   ]
  },
  {
   "cell_type": "markdown",
   "metadata": {},
   "source": [
    "![knapsack](../imgs/knapsack.png)"
   ]
  }
 ],
 "metadata": {
  "kernelspec": {
   "display_name": "Python 3",
   "language": "python",
   "name": "python3"
  },
  "language_info": {
   "codemirror_mode": {
    "name": "ipython",
    "version": 3
   },
   "file_extension": ".py",
   "mimetype": "text/x-python",
   "name": "python",
   "nbconvert_exporter": "python",
   "pygments_lexer": "ipython3",
   "version": "3.6.9"
  }
 },
 "nbformat": 4,
 "nbformat_minor": 4
}
