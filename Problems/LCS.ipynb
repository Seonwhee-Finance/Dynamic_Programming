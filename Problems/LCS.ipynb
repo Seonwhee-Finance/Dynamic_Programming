{
 "cells": [
  {
   "cell_type": "markdown",
   "metadata": {},
   "source": [
    "Given two sequences, find the length of longest subsequence present in both of them. A subsequence is a sequence that appears in the same relative order, but not necessarily contiguous. For example, “abc”, “abg”, “bdf”, “aeg”, ‘”acefg”, .. etc are subsequences of “abcdefg”.   \n",
    "**Example :**  \n",
    "LCS for input Sequences “ACAYKP” and “CAPCAK” is “ACAK”."
   ]
  },
  {
   "cell_type": "markdown",
   "metadata": {},
   "source": [
    "Input :  \n",
    "Each of the next 2 lines contains a string which is all permutations of the all upper-case letters of the alphabet. The string cannot exceed the length of 1000.  \n",
    "  \n",
    "Output :  \n",
    "A single integer, the length of the longest subsequence that appears in all 2 strings."
   ]
  },
  {
   "cell_type": "markdown",
   "metadata": {},
   "source": [
    "```\n",
    "LCS(X,Y):   \n",
    "    for i = 0 to n:   \n",
    "        L[i,0] = 0   \n",
    "    for j = 0 to n:   \n",
    "        L[0,j] = 0   \n",
    "       \n",
    "    for i = 1 to n:   \n",
    "        for j = 1 to n:   \n",
    "            if X[i] == Y[j]:\n",
    "                then L[i,j] = 1 + L[i-1, j-1]   \n",
    "            else:\n",
    "                L[i,j] = max(L[i,j-1], L[i-1, j])   \n",
    "    return L[n,n]\n",
    "```"
   ]
  },
  {
   "cell_type": "code",
   "execution_count": 1,
   "metadata": {},
   "outputs": [
    {
     "name": "stdout",
     "output_type": "stream",
     "text": [
      "The first string  ACAYKP\n",
      "The second string  CAPCAK\n",
      "Length of LCS is  4\n"
     ]
    }
   ],
   "source": [
    "x = input(\"The first string  \")\n",
    "y = input(\"The second string  \")\n",
    "\n",
    "\n",
    "dp = [[0] * (len(y) + 1) for _ in range(len(x) + 1)]\n",
    "for i in range(1, len(x)+1):\n",
    "    for j in range(1, len(y) + 1):\n",
    "        if x[i-1] == y[j-1]:\n",
    "            dp[i][j] = dp[i-1][j-1] + 1\n",
    "        else:\n",
    "            dp[i][j] = max(dp[i][j-1], dp[i-1][j])\n",
    "\n",
    "print(\"Length of LCS is \", dp[len(x)][len(y)])"
   ]
  },
  {
   "cell_type": "code",
   "execution_count": 2,
   "metadata": {},
   "outputs": [
    {
     "name": "stdout",
     "output_type": "stream",
     "text": [
      "The first string  ACAYKP\n",
      "The second string  CAPCAK\n",
      "LCS of ACAYKP and CAPCAK is ACAK\n"
     ]
    }
   ],
   "source": [
    "x = input(\"The first string  \")\n",
    "y = input(\"The second string  \")\n",
    "\n",
    "\n",
    "dp = [[0] * (len(y) + 1) for _ in range(len(x) + 1)]\n",
    "for i in range(1, len(x)+1):\n",
    "    for j in range(1, len(y) + 1):\n",
    "        if x[i-1] == y[j-1]:\n",
    "            dp[i][j] = dp[i-1][j-1] + 1\n",
    "        else:\n",
    "            dp[i][j] = max(dp[i][j-1], dp[i-1][j])\n",
    "\n",
    "m = len(x)\n",
    "n = len(y)\n",
    "index = dp[m][n]\n",
    "\n",
    "# Create a character array to store the lcs string\n",
    "lcs = [\"\"] * (index+1)\n",
    "lcs[index] = \"\"\n",
    "  \n",
    "# Start from the right-most-bottom-most corner and\n",
    "# one by one store characters in lcs[]\n",
    "\n",
    "while m > 0 and n > 0:\n",
    "    # If current character in X[] and Y are same, then\n",
    "    # current character is part of LCS\n",
    "    if x[m-1] == y[n-1]:\n",
    "        lcs[index-1] = x[m-1]\n",
    "        m-=1\n",
    "        n-=1\n",
    "        index-=1\n",
    "    \n",
    "    # If not same, then find the larger of two and\n",
    "    # go in the direction of larger value\n",
    "    elif dp[m-1][n] > dp[m][n-1]:\n",
    "        m-=1\n",
    "    else:\n",
    "        n-=1\n",
    "\n",
    "print(\"LCS of \" + x + \" and \" + y + \" is \" + \"\".join(lcs))"
   ]
  },
  {
   "cell_type": "markdown",
   "metadata": {},
   "source": [
    "![LCS](../imgs/LCS2.png)"
   ]
  }
 ],
 "metadata": {
  "kernelspec": {
   "display_name": "Python 3",
   "language": "python",
   "name": "python3"
  },
  "language_info": {
   "codemirror_mode": {
    "name": "ipython",
    "version": 3
   },
   "file_extension": ".py",
   "mimetype": "text/x-python",
   "name": "python",
   "nbconvert_exporter": "python",
   "pygments_lexer": "ipython3",
   "version": "3.6.9"
  }
 },
 "nbformat": 4,
 "nbformat_minor": 4
}
