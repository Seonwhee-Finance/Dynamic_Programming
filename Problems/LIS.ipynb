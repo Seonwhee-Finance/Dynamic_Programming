{
 "cells": [
  {
   "cell_type": "markdown",
   "metadata": {},
   "source": [
    "**The Longest Increasing Subsequence (LIS) problem** is to find the length of the longest subsequence of a given sequence such that all elements of the subsequence are sorted in increasing order. For example, the length of LIS for {10, 20, 10, 30, 20, 50} is 4 and LIS is {10, 20, 30, 50}. "
   ]
  },
  {
   "cell_type": "markdown",
   "metadata": {},
   "source": [
    "#### Input\n",
    "The first line should be the length of sequence a as N $(1 ≤ N ≤ 1,000)$  \n",
    "$a_i$ should be given next line $(1 ≤ a_i ≤ 1,000)$  \n",
    "  \n",
    "#### Output\n",
    "The length of LIS for sequence a"
   ]
  },
  {
   "cell_type": "markdown",
   "metadata": {},
   "source": [
    "## Longest Increasing Subsequence Algorithm  \n",
    "$LIS(a_1, a_2,...,a_n):$\n",
    "```\n",
    "    for i = 1 to n:  \n",
    "        L[i] = 1  \n",
    "        for j = 1 to i-1:  \n",
    "            if a[j] < a[i] and L[i] < 1+L[j]:  \n",
    "                then L[i] = 1 + L[j]  \n",
    "    max = 1\n",
    "    for i = 2 to n:  \n",
    "        if L[i] > L[max]:  \n",
    "            then max = 1  \n",
    "    return L[max]\n",
    "\n",
    "```"
   ]
  },
  {
   "cell_type": "code",
   "execution_count": 1,
   "metadata": {},
   "outputs": [
    {
     "name": "stdout",
     "output_type": "stream",
     "text": [
      "The length of the sequence 6\n",
      "The whole elements of the sequence delimited by space10 20 10 30 20 50\n",
      "4\n"
     ]
    }
   ],
   "source": [
    "n = int(input(\"The length of the sequence \"))\n",
    "a = list(map(int, input(\"The whole elements of the sequence delimited by space\").split()))\n",
    "\n",
    "L = [1] * n  \n",
    "for i in range(1, n):\n",
    "    for j in range(0, i):\n",
    "        if a[j] < a[i]:\n",
    "            L[i] = max(L[i], L[j]+1)  # Length of LIS on subsequence of a[i], the ending character\n",
    "\n",
    "print(max(L))"
   ]
  },
  {
   "cell_type": "markdown",
   "metadata": {},
   "source": [
    "![LIS](../imgs/LIS.png)"
   ]
  }
 ],
 "metadata": {
  "kernelspec": {
   "display_name": "Python 3",
   "language": "python",
   "name": "python3"
  },
  "language_info": {
   "codemirror_mode": {
    "name": "ipython",
    "version": 3
   },
   "file_extension": ".py",
   "mimetype": "text/x-python",
   "name": "python",
   "nbconvert_exporter": "python",
   "pygments_lexer": "ipython3",
   "version": "3.6.5"
  }
 },
 "nbformat": 4,
 "nbformat_minor": 2
}
