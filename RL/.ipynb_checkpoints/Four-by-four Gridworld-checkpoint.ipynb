{
 "cells": [
  {
   "cell_type": "markdown",
   "metadata": {},
   "source": [
    "## Example 4.1  \n",
    "Consider the 4×4 gridworld shown below.  \n",
    "<img src=../imgs/ex4_1.png>    \n",
    "The nonterminal states are $S = \\{1,2,...,14\\}$. There are four actions possible in each state, $A = \\{up, down, right, left\\}$, which deterministically cause the corresponding state transitions, except that actions that would take\n",
    "the agent off the grid in fact leave the state unchanged. Thus, for instance, $p(6,-1|5,right) = 1$, $p(7,-1|7,right) = 0$, and $p(10,r|5,right) = 1$. This is an undiscounted, episodic task. The reward is −1 on all transitions until the terminal state is reached. The terminal state is shaded in the figure (although it is shown in two places, it is formally one state). The expected reward function is thus $r(s,a,s') = −1$ for all states $s$,$s'$ and actions $a$. Suppose the agent follows the equiprobable random policy (all actions equally likely).  \n",
    "The left side of Figure below shows the sequence of value functions $\\{v_k\\}$ computed by iterative policy evaluation. The final estimate is in fact $v_π$, which in this case gives for each state the negation of the expected number of steps from that state until termination.  \n",
    "<img src=../imgs/ex4_2.png>"
   ]
  },
  {
   "cell_type": "markdown",
   "metadata": {},
   "source": [
    "### Exercise 4.1  \n",
    "In Example 4.1, if $\\pi$ is the equiprobable random policy, what is $q_\\pi(11,down)$? What is $q_\\pi(7,down)$?"
   ]
  },
  {
   "cell_type": "code",
   "execution_count": 1,
   "metadata": {},
   "outputs": [],
   "source": [
    "import sys; sys.path.append('..') # add project root to the python path\n",
    "import numpy as np\n",
    "import pandas as pd\n",
    "import matplotlib.pyplot as plt\n",
    "\n",
    "from src.mdp.tensorized_dp import TensorDP\n",
    "from src.common.gridworld import GridworldEnv\n",
    "from src.common.grid_visualization import visualize_value_function, visualize_policy\n",
    "\n",
    "np.random.seed(0)"
   ]
  },
  {
   "cell_type": "markdown",
   "metadata": {},
   "source": [
    "#### Build a `GridWorld` \n",
    "\n",
    "`GridworldEnv` with row numbers of `nx` and column numbers of `ny` "
   ]
  },
  {
   "cell_type": "code",
   "execution_count": 2,
   "metadata": {},
   "outputs": [],
   "source": [
    "nx = 4\n",
    "ny = 4\n",
    "env = GridworldEnv([ny, nx])"
   ]
  },
  {
   "cell_type": "markdown",
   "metadata": {},
   "source": [
    "#### Initialization\n",
    "\n",
    "\n",
    "```python\n",
    "class TensorDP:\n",
    "    \n",
    "    def __init__(self,\n",
    "                 gamma=1.0,\n",
    "                 error_tol=1e-5):\n",
    "        ...\n",
    "        \n",
    "```\n",
    "\n",
    "The class `TensorDP` has two constructor parameters: `gamma`, the discount rate and `error_tol`, the error tolarance.  \n",
    "#### Setting Gridworld Environment\n",
    "\n",
    "```python\n",
    "def set_env(self, env, policy=None):\n",
    "        self.env = env\n",
    "        if policy is None:\n",
    "            self.policy = np.ones([env.nS, env.nA]) / env.nA\n",
    "\n",
    "        self.ns = env.nS\n",
    "        self.na = env.nA\n",
    "        self.P = env.P_tensor  # Rank 3 tensor [num. actions x num. states x num. states]\n",
    "        self.R = env.R_tensor  # Rank 2 tensor [num. actions x num. states]\n",
    "\n",
    "        print(\"Tensor DP agent initialized\")\n",
    "        print(\"Environment spec:  Num. state = {} | Num. actions = {} \".format(env.nS, env.nA))\n",
    "```"
   ]
  },
  {
   "cell_type": "code",
   "execution_count": 3,
   "metadata": {},
   "outputs": [
    {
     "name": "stdout",
     "output_type": "stream",
     "text": [
      "Tensor DP agent initialized\n",
      "Environment spec:  Num. state = 16 | Num. actions = 4 \n"
     ]
    }
   ],
   "source": [
    "dy_program = TensorDP()\n",
    "dy_program.set_env(env)"
   ]
  },
  {
   "cell_type": "markdown",
   "metadata": {},
   "source": [
    "#### Tensorized Policy evaluation\n",
    "\n",
    "The Policy evaluation(PE) is the algorithm of finding a value function $V^{\\pi}$ in which policy function $\\pi$ is given, and it repeats until Bellman expectation backup operator $T$ converges.  \n",
    "  \n",
    "Bellamn expectation backup operator $T$ can be defined as  \n",
    "$$T^{\\pi}(V) \\leftarrow R^{\\pi} + \\gamma P^{\\pi} V$$   \n",
    "  \n",
    "$\\gamma$ is a discount rate, $R^{\\pi}$ is a reward function with respect to policy $\\pi$, $P^{\\pi}$ is a state transition matrix with respect to policy $\\pi$. <br>\n",
    "\n",
    "##### Calculating $R^{\\pi}$ efficiently\n",
    "\n",
    "$R^{\\pi}$ can be defined as  \n",
    "  \n",
    "$$R^{\\pi}_s = \\sum_{a \\in \\cal{A}} \\pi(a|s) R_s^a $$  \n",
    "  \n",
    "Each element $R^{\\pi}_s$ of each $R^{\\pi}$ can be defined as the equation above. $R^{\\pi}$ can be represented as a column vector of $R^{\\pi}_s$ of all states $s$. $R^{\\pi} \\in \\mathbb{R}^{|\\cal{S}|}$. \n",
    "\n",
    "> For a convenience of implementation, I add one axis to the column vector(Rank 1 tensor), therefore $R^{\\pi} \\in \\mathbb{R}^{|\\cal{S}|\\times 1}$.\n",
    "\n",
    "##### Numpy implementation\n",
    "\n",
    "```python\n",
    "def get_r_pi(self, policy):\n",
    "    r_pi = (policy * self.R).sum(axis=-1)  # [num. states x 1]\n",
    "    return r_pi\n",
    "```"
   ]
  },
  {
   "cell_type": "code",
   "execution_count": 4,
   "metadata": {},
   "outputs": [],
   "source": [
    "def Policy_Reward(DP):\n",
    "    policy = DP.policy # [num. states x num. actions]\n",
    "    R = DP.env.R_tensor # [num. states x num. actions]\n",
    "    print(\"Policy\")\n",
    "    print(policy)\n",
    "    print(\"Reward function\")\n",
    "    print(R)\n",
    "    \n",
    "\n",
    "def Policy_spec(DP):\n",
    "    policy_state_dim = DP.policy.shape[0]\n",
    "    policy_action_dim = DP.policy.shape[1]\n",
    "    print(\"===== The spect of policy function =====\")\n",
    "    print(\"state dimension: {}\".format(policy_state_dim))\n",
    "    print(\"action dimension: {} \\n\".format(policy_action_dim))\n",
    "    print(\"===== Policy function =====\")\n",
    "    print(DP.policy)\n",
    "\n",
    "    \n",
    "def Grid_World_with_Policy(DP, vpi, n_x, n_y):\n",
    "    fig, ax = plt.subplots(1,2, figsize=(12,6))\n",
    "    visualize_value_function(ax[0], vpi, nx, ny)\n",
    "    _ = ax[0].set_title(\"Value pi\")\n",
    "    visualize_policy(ax[1], DP.policy, nx, ny)\n",
    "    _ = ax[1].set_title(\"Policy\")\n",
    "    \n",
    "    \n",
    "def Q_function(DP, state, action):\n",
    "    action_grid = {\"UP\":0, \"RIGHT\":1, \"DOWN\":2, \"LEFT\":3}\n",
    "    r_pi = DP.get_r_pi(dy_program.policy)\n",
    "    q_pi = r_pi + DP.P.dot(v_pi)\n",
    "    print(\"q value of state %d and action %s\"%(state, action))\n",
    "    print(q_pi[action_grid[action]][state])"
   ]
  },
  {
   "cell_type": "code",
   "execution_count": 5,
   "metadata": {},
   "outputs": [
    {
     "name": "stdout",
     "output_type": "stream",
     "text": [
      "Policy\n",
      "[[0.25 0.25 0.25 0.25]\n",
      " [0.25 0.25 0.25 0.25]\n",
      " [0.25 0.25 0.25 0.25]\n",
      " [0.25 0.25 0.25 0.25]\n",
      " [0.25 0.25 0.25 0.25]\n",
      " [0.25 0.25 0.25 0.25]\n",
      " [0.25 0.25 0.25 0.25]\n",
      " [0.25 0.25 0.25 0.25]\n",
      " [0.25 0.25 0.25 0.25]\n",
      " [0.25 0.25 0.25 0.25]\n",
      " [0.25 0.25 0.25 0.25]\n",
      " [0.25 0.25 0.25 0.25]\n",
      " [0.25 0.25 0.25 0.25]\n",
      " [0.25 0.25 0.25 0.25]\n",
      " [0.25 0.25 0.25 0.25]\n",
      " [0.25 0.25 0.25 0.25]]\n",
      "Reward function\n",
      "[[ 0.  0.  0.  0.]\n",
      " [-1. -1. -1. -1.]\n",
      " [-1. -1. -1. -1.]\n",
      " [-1. -1. -1. -1.]\n",
      " [-1. -1. -1. -1.]\n",
      " [-1. -1. -1. -1.]\n",
      " [-1. -1. -1. -1.]\n",
      " [-1. -1. -1. -1.]\n",
      " [-1. -1. -1. -1.]\n",
      " [-1. -1. -1. -1.]\n",
      " [-1. -1. -1. -1.]\n",
      " [-1. -1. -1. -1.]\n",
      " [-1. -1. -1. -1.]\n",
      " [-1. -1. -1. -1.]\n",
      " [-1. -1. -1. -1.]\n",
      " [ 0.  0.  0.  0.]]\n"
     ]
    }
   ],
   "source": [
    "Policy_Reward(dy_program)"
   ]
  },
  {
   "cell_type": "code",
   "execution_count": 6,
   "metadata": {},
   "outputs": [
    {
     "name": "stdout",
     "output_type": "stream",
     "text": [
      "===== The spect of policy function =====\n",
      "state dimension: 16\n",
      "action dimension: 4 \n",
      "\n",
      "===== Policy function =====\n",
      "[[0.25 0.25 0.25 0.25]\n",
      " [0.25 0.25 0.25 0.25]\n",
      " [0.25 0.25 0.25 0.25]\n",
      " [0.25 0.25 0.25 0.25]\n",
      " [0.25 0.25 0.25 0.25]\n",
      " [0.25 0.25 0.25 0.25]\n",
      " [0.25 0.25 0.25 0.25]\n",
      " [0.25 0.25 0.25 0.25]\n",
      " [0.25 0.25 0.25 0.25]\n",
      " [0.25 0.25 0.25 0.25]\n",
      " [0.25 0.25 0.25 0.25]\n",
      " [0.25 0.25 0.25 0.25]\n",
      " [0.25 0.25 0.25 0.25]\n",
      " [0.25 0.25 0.25 0.25]\n",
      " [0.25 0.25 0.25 0.25]\n",
      " [0.25 0.25 0.25 0.25]]\n"
     ]
    }
   ],
   "source": [
    "Policy_spec(dy_program)"
   ]
  },
  {
   "cell_type": "markdown",
   "metadata": {},
   "source": [
    "#### The implementation of policy evaluation \n",
    "\n",
    "```python\n",
    "def policy_evaluation(self, policy=None, v_init=None):\n",
    "    \"\"\"\n",
    "    :param policy: policy to evaluate (optional)\n",
    "    :param v_init: initial value 'guesstimation' (optional)\n",
    "    :return: v_pi: value function of the input policy\n",
    "    \"\"\"\n",
    "    if policy is None:\n",
    "        policy = self.policy\n",
    "\n",
    "    r_pi = self.get_r_pi(policy)  # [num. states x 1]\n",
    "    p_pi = self.get_p_pi(policy)  # [num. states x num. states]\n",
    "\n",
    "    if v_init is None:\n",
    "        v_old = np.zeros(self.ns)\n",
    "    else:\n",
    "        v_old = v_init\n",
    "\n",
    "    while True:\n",
    "        # perform Bellman expectation backup\n",
    "        v_new = r_pi + self.gamma * np.matmul(p_pi, v_old)\n",
    "\n",
    "        # check convergence\n",
    "        bellman_error = np.linalg.norm(v_new - v_old)\n",
    "        if bellman_error <= self.error_tol:\n",
    "            break\n",
    "        else:\n",
    "            v_old = v_new\n",
    "    return v_new\n",
    "```"
   ]
  },
  {
   "cell_type": "code",
   "execution_count": 7,
   "metadata": {},
   "outputs": [
    {
     "data": {
      "image/png": "[encoded data removed]",
      "text/plain": [
       "<Figure size 864x432 with 3 Axes>"
      ]
     },
     "metadata": {},
     "output_type": "display_data"
    }
   ],
   "source": [
    "v_pi = dy_program.policy_evaluation()\n",
    "Grid_World_with_Policy(dy_program, v_pi, nx, ny)\n",
    "v_old = v_pi"
   ]
  },
  {
   "cell_type": "code",
   "execution_count": 8,
   "metadata": {},
   "outputs": [
    {
     "name": "stdout",
     "output_type": "stream",
     "text": [
      "q value of state 11 and action DOWN\n",
      "-1.0\n"
     ]
    }
   ],
   "source": [
    "Q_function(dy_program, 11, \"DOWN\")"
   ]
  },
  {
   "cell_type": "code",
   "execution_count": 9,
   "metadata": {},
   "outputs": [
    {
     "name": "stdout",
     "output_type": "stream",
     "text": [
      "q value of state 7 and action DOWN\n",
      "-14.999966096909104\n"
     ]
    }
   ],
   "source": [
    "Q_function(dy_program, 7, \"DOWN\")"
   ]
  },
  {
   "cell_type": "markdown",
   "metadata": {},
   "source": [
    "### Policy Improvement\n",
    "\n",
    "Greedy policy improvement by using `policy_improvement()`\n",
    "\n",
    "> Greedy policy improvement\n",
    "> 1. By using $V^{\\pi}(s)$ and $P$, $R$, calculate $Q^{\\pi}(s,a)$. <br>\n",
    "$$Q^\\pi(s,a) = R_s^{a} + \\gamma \\Sigma_{s' \\in \\cal{S}}P_{ss'}^aV^{\\pi}(s')$$\n",
    "\n",
    "> 2. Set the improved policy $\\pi'(a|s)$ with $a$ that yields the maximum value of $Q^{\\pi}(s,a)$ as 1. Otherwise, 0.0\n",
    "\n",
    "```python\n",
    "    def policy_improvement(self, policy=None, v_pi=None):\n",
    "        if policy is None:\n",
    "            policy = self.policy\n",
    "\n",
    "        if v_pi is None:\n",
    "            v_pi = self.policy_evaluation(policy)\n",
    "\n",
    "        # (1) Compute Q_pi(s,a) from V_pi(s)\n",
    "        r_pi = self.get_r_pi(policy)\n",
    "        q_pi = r_pi + self.P.dot(v_pi)\n",
    "\n",
    "        # (2) Greedy improvement\n",
    "        policy_improved = np.zeros_like(policy)\n",
    "        policy_improved[np.arange(q_pi.shape[1]), q_pi.argmax(axis=0)] = 1\n",
    "        return policy_improved\n",
    "```\n",
    "\n",
    "> `policy_improved = np.zeros_like(policy)`  <br>\n",
    "improved policy $\\pi'$ is initialized as 0. \n",
    "\n",
    "> `policy_improved[np.arange(q_pi.shape[1]), q_pi.argmax(axis=0)] = 1` <br>\n",
    "Set $a$ with specific $s$ in which $a$ yields the maximum $Q(s,a)$ as 1.0"
   ]
  },
  {
   "cell_type": "code",
   "execution_count": 10,
   "metadata": {},
   "outputs": [],
   "source": [
    "def Policy_improvement_evaluation(DP, vold, n_x, n_y):\n",
    "    p_new = DP.policy_improvement()\n",
    "    DP.set_policy(p_new)\n",
    "    Policy_spec(DP)\n",
    "    vpi = DP.policy_evaluation()\n",
    "    Grid_World_with_Policy(DP, vpi, n_x, n_y)\n",
    "    v_new = vpi\n",
    "    print(v_new - vold)"
   ]
  },
  {
   "cell_type": "code",
   "execution_count": 11,
   "metadata": {},
   "outputs": [
    {
     "name": "stdout",
     "output_type": "stream",
     "text": [
      "===== The spect of policy function =====\n",
      "state dimension: 16\n",
      "action dimension: 4 \n",
      "\n",
      "===== Policy function =====\n",
      "[[1. 0. 0. 0.]\n",
      " [0. 0. 0. 1.]\n",
      " [0. 0. 0. 1.]\n",
      " [0. 0. 1. 0.]\n",
      " [1. 0. 0. 0.]\n",
      " [0. 0. 0. 1.]\n",
      " [0. 0. 1. 0.]\n",
      " [0. 0. 1. 0.]\n",
      " [1. 0. 0. 0.]\n",
      " [1. 0. 0. 0.]\n",
      " [0. 1. 0. 0.]\n",
      " [0. 0. 1. 0.]\n",
      " [1. 0. 0. 0.]\n",
      " [0. 1. 0. 0.]\n",
      " [0. 1. 0. 0.]\n",
      " [1. 0. 0. 0.]]\n",
      "[ 0.         12.9999661  17.99994976 18.99994378 12.9999661  15.99995574\n",
      " 16.9999501  17.99994976 17.99994976 16.9999501  15.99995574 12.9999661\n",
      " 18.99994378 17.99994976 12.9999661   0.        ]\n"
     ]
    },
    {
     "data": {
      "image/png": "[encoded data removed]",
      "text/plain": [
       "<Figure size 864x432 with 3 Axes>"
      ]
     },
     "metadata": {},
     "output_type": "display_data"
    }
   ],
   "source": [
    "Policy_improvement_evaluation(dy_program, v_old, nx, ny)"
   ]
  },
  {
   "cell_type": "code",
   "execution_count": 12,
   "metadata": {},
   "outputs": [
    {
     "name": "stdout",
     "output_type": "stream",
     "text": [
      "q value of state 11 and action DOWN\n",
      "-1.0\n",
      "q value of state 7 and action DOWN\n",
      "-14.999966096909104\n"
     ]
    }
   ],
   "source": [
    "Q_function(dy_program, 11, \"DOWN\")\n",
    "Q_function(dy_program, 7, \"DOWN\")"
   ]
  },
  {
   "cell_type": "code",
   "execution_count": 13,
   "metadata": {},
   "outputs": [
    {
     "name": "stdout",
     "output_type": "stream",
     "text": [
      "===== The spect of policy function =====\n",
      "state dimension: 16\n",
      "action dimension: 4 \n",
      "\n",
      "===== Policy function =====\n",
      "[[1. 0. 0. 0.]\n",
      " [0. 0. 0. 1.]\n",
      " [0. 0. 0. 1.]\n",
      " [0. 0. 1. 0.]\n",
      " [1. 0. 0. 0.]\n",
      " [1. 0. 0. 0.]\n",
      " [1. 0. 0. 0.]\n",
      " [0. 0. 1. 0.]\n",
      " [1. 0. 0. 0.]\n",
      " [1. 0. 0. 0.]\n",
      " [0. 1. 0. 0.]\n",
      " [0. 0. 1. 0.]\n",
      " [1. 0. 0. 0.]\n",
      " [0. 1. 0. 0.]\n",
      " [0. 1. 0. 0.]\n",
      " [1. 0. 0. 0.]]\n",
      "[ 0.         12.9999661  17.99994976 18.99994378 12.9999661  15.99995574\n",
      " 16.9999501  17.99994976 17.99994976 16.9999501  15.99995574 12.9999661\n",
      " 18.99994378 17.99994976 12.9999661   0.        ]\n"
     ]
    },
    {
     "data": {
      "image/png": "[encoded data removed]",
      "text/plain": [
       "<Figure size 864x432 with 3 Axes>"
      ]
     },
     "metadata": {},
     "output_type": "display_data"
    }
   ],
   "source": [
    "Policy_improvement_evaluation(dy_program, v_old, nx, ny)"
   ]
  },
  {
   "cell_type": "code",
   "execution_count": 14,
   "metadata": {},
   "outputs": [
    {
     "name": "stdout",
     "output_type": "stream",
     "text": [
      "q value of state 11 and action DOWN\n",
      "-1.0\n",
      "q value of state 7 and action DOWN\n",
      "-14.999966096909104\n"
     ]
    }
   ],
   "source": [
    "Q_function(dy_program, 11, \"DOWN\")\n",
    "Q_function(dy_program, 7, \"DOWN\")"
   ]
  },
  {
   "cell_type": "code",
   "execution_count": 15,
   "metadata": {},
   "outputs": [
    {
     "name": "stdout",
     "output_type": "stream",
     "text": [
      "===== The spect of policy function =====\n",
      "state dimension: 16\n",
      "action dimension: 4 \n",
      "\n",
      "===== Policy function =====\n",
      "[[1. 0. 0. 0.]\n",
      " [0. 0. 0. 1.]\n",
      " [0. 0. 0. 1.]\n",
      " [0. 0. 1. 0.]\n",
      " [1. 0. 0. 0.]\n",
      " [1. 0. 0. 0.]\n",
      " [1. 0. 0. 0.]\n",
      " [0. 0. 1. 0.]\n",
      " [1. 0. 0. 0.]\n",
      " [1. 0. 0. 0.]\n",
      " [0. 1. 0. 0.]\n",
      " [0. 0. 1. 0.]\n",
      " [1. 0. 0. 0.]\n",
      " [0. 1. 0. 0.]\n",
      " [0. 1. 0. 0.]\n",
      " [1. 0. 0. 0.]]\n",
      "[ 0.         12.9999661  17.99994976 18.99994378 12.9999661  15.99995574\n",
      " 16.9999501  17.99994976 17.99994976 16.9999501  15.99995574 12.9999661\n",
      " 18.99994378 17.99994976 12.9999661   0.        ]\n"
     ]
    },
    {
     "data": {
      "image/png": "[encoded data removed]",
      "text/plain": [
       "<Figure size 864x432 with 3 Axes>"
      ]
     },
     "metadata": {},
     "output_type": "display_data"
    }
   ],
   "source": [
    "Policy_improvement_evaluation(dy_program, v_old, nx, ny)"
   ]
  },
  {
   "cell_type": "code",
   "execution_count": 16,
   "metadata": {},
   "outputs": [
    {
     "name": "stdout",
     "output_type": "stream",
     "text": [
      "===== The spect of policy function =====\n",
      "state dimension: 16\n",
      "action dimension: 4 \n",
      "\n",
      "===== Policy function =====\n",
      "[[1. 0. 0. 0.]\n",
      " [0. 0. 0. 1.]\n",
      " [0. 0. 0. 1.]\n",
      " [0. 0. 1. 0.]\n",
      " [1. 0. 0. 0.]\n",
      " [1. 0. 0. 0.]\n",
      " [1. 0. 0. 0.]\n",
      " [0. 0. 1. 0.]\n",
      " [1. 0. 0. 0.]\n",
      " [1. 0. 0. 0.]\n",
      " [0. 1. 0. 0.]\n",
      " [0. 0. 1. 0.]\n",
      " [1. 0. 0. 0.]\n",
      " [0. 1. 0. 0.]\n",
      " [0. 1. 0. 0.]\n",
      " [1. 0. 0. 0.]]\n",
      "[ 0.         12.9999661  17.99994976 18.99994378 12.9999661  15.99995574\n",
      " 16.9999501  17.99994976 17.99994976 16.9999501  15.99995574 12.9999661\n",
      " 18.99994378 17.99994976 12.9999661   0.        ]\n"
     ]
    },
    {
     "data": {
      "image/png": "[encoded data removed]",
      "text/plain": [
       "<Figure size 864x432 with 3 Axes>"
      ]
     },
     "metadata": {},
     "output_type": "display_data"
    }
   ],
   "source": [
    "Policy_improvement_evaluation(dy_program, v_old, nx, ny)"
   ]
  },
  {
   "cell_type": "code",
   "execution_count": 17,
   "metadata": {},
   "outputs": [
    {
     "name": "stdout",
     "output_type": "stream",
     "text": [
      "===== The spect of policy function =====\n",
      "state dimension: 16\n",
      "action dimension: 4 \n",
      "\n",
      "===== Policy function =====\n",
      "[[1. 0. 0. 0.]\n",
      " [0. 0. 0. 1.]\n",
      " [0. 0. 0. 1.]\n",
      " [0. 0. 1. 0.]\n",
      " [1. 0. 0. 0.]\n",
      " [1. 0. 0. 0.]\n",
      " [1. 0. 0. 0.]\n",
      " [0. 0. 1. 0.]\n",
      " [1. 0. 0. 0.]\n",
      " [1. 0. 0. 0.]\n",
      " [0. 1. 0. 0.]\n",
      " [0. 0. 1. 0.]\n",
      " [1. 0. 0. 0.]\n",
      " [0. 1. 0. 0.]\n",
      " [0. 1. 0. 0.]\n",
      " [1. 0. 0. 0.]]\n",
      "[ 0.         12.9999661  17.99994976 18.99994378 12.9999661  15.99995574\n",
      " 16.9999501  17.99994976 17.99994976 16.9999501  15.99995574 12.9999661\n",
      " 18.99994378 17.99994976 12.9999661   0.        ]\n"
     ]
    },
    {
     "data": {
      "image/png": "[encoded data removed]",
      "text/plain": [
       "<Figure size 864x432 with 3 Axes>"
      ]
     },
     "metadata": {},
     "output_type": "display_data"
    }
   ],
   "source": [
    "Policy_improvement_evaluation(dy_program, v_old, nx, ny)"
   ]
  },
  {
   "cell_type": "code",
   "execution_count": null,
   "metadata": {},
   "outputs": [],
   "source": []
  }
 ],
 "metadata": {
  "kernelspec": {
   "display_name": "Python 3",
   "language": "python",
   "name": "python3"
  },
  "language_info": {
   "codemirror_mode": {
    "name": "ipython",
    "version": 3
   },
   "file_extension": ".py",
   "mimetype": "text/x-python",
   "name": "python",
   "nbconvert_exporter": "python",
   "pygments_lexer": "ipython3",
   "version": "3.6.9"
  }
 },
 "nbformat": 4,
 "nbformat_minor": 4
}
